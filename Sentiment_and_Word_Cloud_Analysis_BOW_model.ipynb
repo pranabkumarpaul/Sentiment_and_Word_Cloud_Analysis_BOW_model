{
 "cells": [
  {
   "cell_type": "markdown",
   "metadata": {},
   "source": [
    " "
   ]
  },
  {
   "cell_type": "markdown",
   "metadata": {},
   "source": [
    "# Sentiment & Wordcloud Analysis.\n",
    "## Using Bag of Words Model."
   ]
  },
  {
   "cell_type": "markdown",
   "metadata": {},
   "source": [
    "## Data:-  Twitter Data. <br> Topic:- Corona Virus."
   ]
  },
  {
   "cell_type": "markdown",
   "metadata": {},
   "source": [
    "***\n",
    "***"
   ]
  },
  {
   "cell_type": "markdown",
   "metadata": {},
   "source": [
    "# Library."
   ]
  },
  {
   "cell_type": "code",
   "execution_count": null,
   "metadata": {},
   "outputs": [],
   "source": [
    "# Installing the library to fetch Tweets\n",
    "#!pip install tweepy"
   ]
  },
  {
   "cell_type": "code",
   "execution_count": null,
   "metadata": {},
   "outputs": [],
   "source": [
    "import tweepy\n",
    "import pandas as pd"
   ]
  },
  {
   "cell_type": "markdown",
   "metadata": {},
   "source": [
    "# Data Import & Preprocessing."
   ]
  },
  {
   "cell_type": "code",
   "execution_count": null,
   "metadata": {},
   "outputs": [],
   "source": [
    "# Variables for user credentials to access Twitter API\n",
    "access_token = \"1399819700457017345-K9Hhc0tfURvgRd4NNhQvej7YW3ReSs\"\n",
    "access_token_secret = \"hUl3ANuYhrgJxYNwT2ML5weSsDC7oOEPEqYpKYOcpz0w3\"\n",
    "consumer_key = \"qpLmZbupMFUV0qJyYdWOjoJNG\"\n",
    "consumer_secret = \"0ltT1eyYKTxFcQJgma945JrJKJYJgQiEV8WjnQUg2GRaWY2yeO\""
   ]
  },
  {
   "cell_type": "code",
   "execution_count": null,
   "metadata": {},
   "outputs": [],
   "source": [
    "# Connecting to twitter using credentials\n",
    "auth = tweepy.OAuthHandler(consumer_key, consumer_secret)\n",
    "auth.set_access_token(access_token, access_token_secret)\n",
    "api = tweepy.API(auth)\n",
    "\n",
    "# Searching about the given keyword in all the latest tweets & pull the data\n",
    "tweets_data=api.search('corona virus',count=100, lang='en', include_rts=False, tweet_mode=\"extended\",\n",
    "                      geocode=\"22.5726,88.3639,100km\")\n",
    "print (\"Total number of tweets found: \"+ str(len(tweets_data)))\n",
    "\n",
    "\n",
    "# Creating an empty data frame to store the tweets\n",
    "tweets = pd.DataFrame()\n",
    "\n",
    "# Extracting the tweet metadata\n",
    "for status in tweets_data:\n",
    "    tweets=tweets.append(status._json, ignore_index=True)"
   ]
  },
  {
   "cell_type": "code",
   "execution_count": null,
   "metadata": {},
   "outputs": [],
   "source": [
    "# Looking at the data\n",
    "tweets.head(2)"
   ]
  },
  {
   "cell_type": "code",
   "execution_count": null,
   "metadata": {},
   "outputs": [],
   "source": [
    "tweets_data= pd.DataFrame(tweets['full_text'])\n",
    "tweets_data.head(3)"
   ]
  },
  {
   "cell_type": "code",
   "execution_count": null,
   "metadata": {},
   "outputs": [],
   "source": [
    "# Looking at the tweets of few rows.\n",
    "# Converting the text column as a single.\n",
    "Tweets_String= str(tweets_data.loc[20:35,'full_text'].values)\n",
    "Tweets_String"
   ]
  },
  {
   "cell_type": "markdown",
   "metadata": {},
   "source": [
    "### There are lot junk in the Data. Like:- Twitter-Handles, Smileys, 'RT' etc.."
   ]
  },
  {
   "cell_type": "code",
   "execution_count": null,
   "metadata": {},
   "outputs": [],
   "source": [
    "# Creating a function to clean the data\n",
    "\n",
    "def Data_Cleaner(Input_Data):\n",
    "\n",
    "    # Tweet Text cleaning\n",
    "    import re\n",
    "\n",
    "    # Removing the twitter usernames from tweet string\n",
    "    Tweet_Texts_Cleaned=re.sub(r'@\\w+', ' ', Input_Data)\n",
    "\n",
    "    # Removing the URLS from the tweet string\n",
    "    Tweet_Texts_Cleaned=re.sub(r'http\\S+', ' ', Tweet_Texts_Cleaned)\n",
    "\n",
    "    # removing all the special characters\n",
    "    #Tweet_Texts_Cleaned = re.sub(r'[?|$|.|!|:|RT]',r' ',Tweet_Texts_Cleaned)\n",
    "\n",
    "    # Removing everything which is not alphabets.\n",
    "    Tweet_Texts_Cleaned= re.sub(r'[^a-z A-Z]',r'',Tweet_Texts_Cleaned)\n",
    "\n",
    "    # Removing 'RT' from tweet string\n",
    "    Tweet_Texts_Cleaned= re.sub(r'[RT]',r' ',Tweet_Texts_Cleaned)\n",
    "\n",
    "    # Removing extra spaces in the text\n",
    "    Tweet_Texts_Cleaned= re.sub(r' +', ' ', Tweet_Texts_Cleaned)\n",
    "\n",
    "    return(Tweet_Texts_Cleaned)"
   ]
  },
  {
   "cell_type": "code",
   "execution_count": null,
   "metadata": {},
   "outputs": [],
   "source": [
    "# Calling the Function & Cleaning the data.\n",
    "tweets_data['Tweets']= tweets_data['full_text'].apply(Data_Cleaner)\n",
    "tweets_data.head(3)\n",
    "#str(tweets_data['Tweets'].values)"
   ]
  },
  {
   "cell_type": "code",
   "execution_count": null,
   "metadata": {},
   "outputs": [],
   "source": [
    "tweets_data.loc[1,'Tweets']"
   ]
  },
  {
   "cell_type": "markdown",
   "metadata": {},
   "source": [
    "# Sentiment Analysis & Visualization (B.O.W model)."
   ]
  },
  {
   "cell_type": "code",
   "execution_count": null,
   "metadata": {},
   "outputs": [],
   "source": [
    "# Import sentiment words.\n",
    "Positive_Words= pd.read_table('C:\\\\Users\\\\Pranab_Kumar_Paul\\\\Desktop\\\\Python_Script\\\\My_Script\\\\Python_Project(GitHub)\\\\UnSupervised__(Text_Data)\\\\Sentiment_Analysis_Data\\\\Positive_words.txt', encoding= 'latin-1')\n",
    "Negative_Words= pd.read_table('C:\\\\Users\\\\Pranab_Kumar_Paul\\\\Desktop\\\\Python_Script\\\\My_Script\\\\Python_Project(GitHub)\\\\UnSupervised__(Text_Data)\\\\Sentiment_Analysis_Data\\\\Negative_words.txt', encoding= 'latin-1')"
   ]
  },
  {
   "cell_type": "code",
   "execution_count": null,
   "metadata": {},
   "outputs": [],
   "source": [
    "## Sample positive words.\n",
    "Positive_Words.head()"
   ]
  },
  {
   "cell_type": "code",
   "execution_count": null,
   "metadata": {},
   "outputs": [],
   "source": [
    "## Sample negative words.\n",
    "Negative_Words.head()"
   ]
  },
  {
   "cell_type": "code",
   "execution_count": null,
   "metadata": {},
   "outputs": [],
   "source": [
    "# Function for Sentiment analysis using B.O.W model.\n",
    "def BOW_Sentiment(inpSentence):\n",
    "    \n",
    "    Positive_Score= 0\n",
    "    Negative_Score= 0\n",
    "    Overall_Sentiment= ''\n",
    "    \n",
    "    # Converting every word in lowercase.\n",
    "    new_sentence= inpSentence.lower()\n",
    "    \n",
    "    # Splitting the sentence into list of words.\n",
    "    word_list= new_sentence.split()\n",
    "    \n",
    "    # Iterate every word and check if it is present in the positive or negative word list.\n",
    "    for word in word_list:\n",
    "        if (word in Negative_Words.values):\n",
    "            Negative_Score+=1            \n",
    "        if (word in Positive_Words.values):\n",
    "            Positive_Score+=1\n",
    "    \n",
    "    # Checking the sentiment.\n",
    "    if ((Positive_Score - Negative_Score) > 0):\n",
    "        Overall_Sentiment= 'Positive'\n",
    "\n",
    "    elif ((Positive_Score - Negative_Score) == 0):\n",
    "        Overall_Sentiment= 'Neutral'\n",
    "\n",
    "    else:\n",
    "        Overall_Sentiment= 'Negative'\n",
    "\n",
    "    return(Overall_Sentiment)"
   ]
  },
  {
   "cell_type": "code",
   "execution_count": null,
   "metadata": {},
   "outputs": [],
   "source": [
    "## Applying the function.\n",
    "tweets_data['Sentiment']=tweets_data['Tweets'].apply(BOW_Sentiment)"
   ]
  },
  {
   "cell_type": "code",
   "execution_count": null,
   "metadata": {},
   "outputs": [],
   "source": [
    "## Sample sentiment.\n",
    "tweets_data.head(3)"
   ]
  },
  {
   "cell_type": "code",
   "execution_count": null,
   "metadata": {},
   "outputs": [],
   "source": [
    "# Visualizing the overall sentiment distribution\n",
    "\n",
    "import matplotlib.pyplot as plt\n",
    "fig, subPlot =plt.subplots(nrows=1, ncols=2, figsize=(10,4),dpi= 90)\n",
    "fig.suptitle(\"Sentiment analysis of The Tweets #Corona_Virus\",fontsize= 20)\n",
    "\n",
    "# Grouping the data\n",
    "#GroupedData=tweets_data['Sentiment'].value_counts()\n",
    "GroupedData=tweets_data.groupby('Sentiment').size()\n",
    "\n",
    "# Creating the charts\n",
    "GroupedData.plot(kind='bar', ax=subPlot[0], color=['crimson','lightblue', 'green'],rot= 0)\n",
    "GroupedData.plot(kind='pie', ax=subPlot[1], colors=['crimson','lightblue', 'green'], autopct= '%.2f %%',\n",
    "                         startangle = 0, explode = (0.1,0.0,0.0))    \n",
    "plt.show()"
   ]
  },
  {
   "cell_type": "markdown",
   "metadata": {},
   "source": [
    "# Wordcloud Analysis of the Negative Tweets"
   ]
  },
  {
   "cell_type": "code",
   "execution_count": null,
   "metadata": {},
   "outputs": [],
   "source": [
    "#tweets_data[['Tweets','Sentiment']][tweets_data['Sentiment']=='Negative']\n",
    "\n",
    "Negative_Sentiment= str(tweets_data['Tweets'][tweets_data['Sentiment']=='Negative'].values)\n",
    "Negative_Sentiment"
   ]
  },
  {
   "cell_type": "code",
   "execution_count": null,
   "metadata": {},
   "outputs": [],
   "source": [
    "# Finding the important word combinations using textblob\n",
    "from textblob import TextBlob\n",
    "\n",
    "# Converting the sample text to a blob\n",
    "SampleTextInBlobFormat = TextBlob(Negative_Sentiment)\n",
    "\n",
    "# Finding the noun phrases (important keywords combination) in the text, to understand what entities are being talked about\n",
    "NounPhrases=SampleTextInBlobFormat.noun_phrases\n",
    "\n",
    "# Creating an empty list to hold new values\n",
    "# combining the noun phrases using underscore to visualize it as wordcloud\n",
    "NewNounList=[]\n",
    "for words in NounPhrases:\n",
    "    NewNounList.append(words.replace(\" \", \"_\"))\n",
    "    \n",
    "# Splitting the text to make list of words\n",
    "#WordList=str(NewNounList).split()    "
   ]
  },
  {
   "cell_type": "code",
   "execution_count": null,
   "metadata": {},
   "outputs": [],
   "source": [
    "# Looking at the Few noun_phrases\n",
    "NewNounList[1:6]"
   ]
  },
  {
   "cell_type": "code",
   "execution_count": null,
   "metadata": {},
   "outputs": [],
   "source": [
    "# Finding out the frequency of Top 10 words in text\n",
    "\n",
    "# Creating a Dataframe\n",
    "WordData=pd.DataFrame(data= pd.Series(NewNounList), columns=['words'])\n",
    "\n",
    "# Finding the top frequency words\n",
    "print(WordData.groupby('words').size().nlargest(15))\n"
   ]
  },
  {
   "cell_type": "code",
   "execution_count": null,
   "metadata": {},
   "outputs": [],
   "source": [
    "# Converting list into a string to plot wordcloud\n",
    "NewNounString=' '.join(NewNounList)\n",
    "#print('##### Important word combinations ####')\n",
    "#print(NewNounString)\n",
    "\n",
    "########################################################################\n",
    "# Plotting the wordcloud\n",
    "%matplotlib inline\n",
    "import matplotlib.pyplot as plt\n",
    "\n",
    "from wordcloud import WordCloud, STOPWORDS\n",
    "\n",
    "# Creating a custom list of stopwords\n",
    "customStopwords=list(STOPWORDS) + ['corona_virus','corona',\"cor'\",'corona_virus_provides']\n",
    "\n",
    "wordcloudimage = WordCloud( max_words=100,\n",
    "                            font_step=2 ,\n",
    "                            max_font_size=500,\n",
    "                            stopwords=customStopwords,\n",
    "                            background_color='black',\n",
    "                            width=2500,\n",
    "                            height=1000\n",
    "                          ).generate(NewNounString)\n",
    "\n",
    "plt.figure(figsize=(15,7))\n",
    "plt.imshow(wordcloudimage)\n",
    "plt.axis(\"off\")\n",
    "plt.show()"
   ]
  },
  {
   "cell_type": "markdown",
   "metadata": {},
   "source": [
    " "
   ]
  },
  {
   "cell_type": "markdown",
   "metadata": {},
   "source": [
    " "
   ]
  }
 ],
 "metadata": {
  "kernelspec": {
   "display_name": "Python 3",
   "language": "python",
   "name": "python3"
  },
  "language_info": {
   "codemirror_mode": {
    "name": "ipython",
    "version": 3
   },
   "file_extension": ".py",
   "mimetype": "text/x-python",
   "name": "python",
   "nbconvert_exporter": "python",
   "pygments_lexer": "ipython3",
   "version": "3.8.3"
  }
 },
 "nbformat": 4,
 "nbformat_minor": 4
}
